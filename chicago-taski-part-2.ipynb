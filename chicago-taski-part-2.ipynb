{
 "cells": [
  {
   "cell_type": "markdown",
   "metadata": {},
   "source": [
    "This kernal is for the \"Mode of payment usually used\" Task. Like the previous task I did. \n",
    "\n",
    "Part 1 of this notebook addressed the other challenge regaurding the most popular taxi company https://www.kaggle.com/schorsi/chicago-taxi-tasks-part-1. I'm currently in week four of my personal challenge to compete one Kaggle task a week.\n",
    "\n",
    "Thanks to:\n",
    "   * The city of Chicago for the dataset https://www.kaggle.com/chicago/chicago-taxi-trips-bq\n",
    "   * Tinotenda for the Task https://www.kaggle.com/tinotendamhlanga"
   ]
  },
  {
   "attachments": {
    "week_4_task_head.png": {
     "image/png": "[encoded data removed]"
    }
   },
   "cell_type": "markdown",
   "metadata": {},
   "source": [
    "![week_4_task_head.png](attachment:week_4_task_head.png)\n",
    "\n",
    "As we can see above, cash is king for the taxi service. See below for the details on how I generated this graph and what other findings I came across"
   ]
  },
  {
   "cell_type": "code",
   "execution_count": 1,
   "metadata": {
    "_cell_guid": "b1076dfc-b9ad-4769-8c92-a6c4dae69d19",
    "_uuid": "8f2839f25d086af736a60e9eeb907d3b93b6e0e5"
   },
   "outputs": [],
   "source": [
    "from google.cloud import bigquery\n",
    "import numpy as np\n",
    "import pandas as pd"
   ]
  },
  {
   "cell_type": "code",
   "execution_count": 2,
   "metadata": {
    "_cell_guid": "79c7e3d0-c299-4dcb-8224-4455121ee9b0",
    "_uuid": "d629ff2d2480ee46fbb7e2d37f6b5fab8052498a"
   },
   "outputs": [
    {
     "name": "stdout",
     "output_type": "stream",
     "text": [
      "Using Kaggle's public dataset BigQuery integration.\n"
     ]
    }
   ],
   "source": [
    "client = bigquery.Client()\n",
    "dataset_ref = client.dataset(\"chicago_taxi_trips\", project=\"bigquery-public-data\")\n",
    "taxi_dat = client.get_dataset(dataset_ref)"
   ]
  },
  {
   "cell_type": "code",
   "execution_count": 3,
   "metadata": {
    "_kg_hide-input": true,
    "_kg_hide-output": true
   },
   "outputs": [
    {
     "name": "stdout",
     "output_type": "stream",
     "text": [
      "taxi_trips\n"
     ]
    }
   ],
   "source": [
    "tables = list(client.list_tables(taxi_dat))\n",
    "for table in tables:\n",
    "    print(table.table_id)"
   ]
  },
  {
   "cell_type": "code",
   "execution_count": 4,
   "metadata": {
    "_kg_hide-input": true,
    "_kg_hide-output": true
   },
   "outputs": [
    {
     "data": {
      "text/plain": [
       "[SchemaField('unique_key', 'STRING', 'REQUIRED', 'Unique identifier for the trip.', ()),\n",
       " SchemaField('taxi_id', 'STRING', 'REQUIRED', 'A unique identifier for the taxi.', ()),\n",
       " SchemaField('trip_start_timestamp', 'TIMESTAMP', 'NULLABLE', 'When the trip started, rounded to the nearest 15 minutes.', ()),\n",
       " SchemaField('trip_end_timestamp', 'TIMESTAMP', 'NULLABLE', 'When the trip ended, rounded to the nearest 15 minutes.', ()),\n",
       " SchemaField('trip_seconds', 'INTEGER', 'NULLABLE', 'Time of the trip in seconds.', ()),\n",
       " SchemaField('trip_miles', 'FLOAT', 'NULLABLE', 'Distance of the trip in miles.', ()),\n",
       " SchemaField('pickup_census_tract', 'INTEGER', 'NULLABLE', 'The Census Tract where the trip began. For privacy, this Census Tract is not shown for some trips.', ()),\n",
       " SchemaField('dropoff_census_tract', 'INTEGER', 'NULLABLE', 'The Census Tract where the trip ended. For privacy, this Census Tract is not shown for some trips.', ()),\n",
       " SchemaField('pickup_community_area', 'INTEGER', 'NULLABLE', 'The Community Area where the trip began.', ()),\n",
       " SchemaField('dropoff_community_area', 'INTEGER', 'NULLABLE', 'The Community Area where the trip ended.', ()),\n",
       " SchemaField('fare', 'FLOAT', 'NULLABLE', 'The fare for the trip.', ()),\n",
       " SchemaField('tips', 'FLOAT', 'NULLABLE', 'The tip for the trip. Cash tips generally will not be recorded.', ()),\n",
       " SchemaField('tolls', 'FLOAT', 'NULLABLE', 'The tolls for the trip.', ()),\n",
       " SchemaField('extras', 'FLOAT', 'NULLABLE', 'Extra charges for the trip.', ()),\n",
       " SchemaField('trip_total', 'FLOAT', 'NULLABLE', 'Total cost of the trip, the total of the fare, tips, tolls, and extras.', ()),\n",
       " SchemaField('payment_type', 'STRING', 'NULLABLE', 'Type of payment for the trip.', ()),\n",
       " SchemaField('company', 'STRING', 'NULLABLE', 'The taxi company.', ()),\n",
       " SchemaField('pickup_latitude', 'FLOAT', 'NULLABLE', 'The latitude of the center of the pickup census tract or the community area if the census tract has been hidden for privacy.', ()),\n",
       " SchemaField('pickup_longitude', 'FLOAT', 'NULLABLE', 'The longitude of the center of the pickup census tract or the community area if the census tract has been hidden for privacy.', ()),\n",
       " SchemaField('pickup_location', 'STRING', 'NULLABLE', 'The location of the center of the pickup census tract or the community area if the census tract has been hidden for privacy.', ()),\n",
       " SchemaField('dropoff_latitude', 'FLOAT', 'NULLABLE', 'The latitude of the center of the dropoff census tract or the community area if the census tract has been hidden for privacy.', ()),\n",
       " SchemaField('dropoff_longitude', 'FLOAT', 'NULLABLE', 'The longitude of the center of the dropoff census tract or the community area if the census tract has been hidden for privacy.', ()),\n",
       " SchemaField('dropoff_location', 'STRING', 'NULLABLE', 'The location of the center of the dropoff census tract or the community area if the census tract has been hidden for privacy.', ())]"
      ]
     },
     "execution_count": 4,
     "metadata": {},
     "output_type": "execute_result"
    }
   ],
   "source": [
    "table_ref = dataset_ref.table('taxi_trips')\n",
    "table = client.get_table(table_ref)\n",
    "table.schema"
   ]
  },
  {
   "cell_type": "code",
   "execution_count": 5,
   "metadata": {},
   "outputs": [
    {
     "data": {
      "text/html": [
       "<div>\n",
       "<style scoped>\n",
       "    .dataframe tbody tr th:only-of-type {\n",
       "        vertical-align: middle;\n",
       "    }\n",
       "\n",
       "    .dataframe tbody tr th {\n",
       "        vertical-align: top;\n",
       "    }\n",
       "\n",
       "    .dataframe thead th {\n",
       "        text-align: right;\n",
       "    }\n",
       "</style>\n",
       "<table border=\"1\" class=\"dataframe\">\n",
       "  <thead>\n",
       "    <tr style=\"text-align: right;\">\n",
       "      <th></th>\n",
       "      <th>payment_type</th>\n",
       "    </tr>\n",
       "  </thead>\n",
       "  <tbody>\n",
       "    <tr>\n",
       "      <th>0</th>\n",
       "      <td>Mobile</td>\n",
       "    </tr>\n",
       "    <tr>\n",
       "      <th>1</th>\n",
       "      <td>Way2ride</td>\n",
       "    </tr>\n",
       "    <tr>\n",
       "      <th>2</th>\n",
       "      <td>No Charge</td>\n",
       "    </tr>\n",
       "    <tr>\n",
       "      <th>3</th>\n",
       "      <td>Prcard</td>\n",
       "    </tr>\n",
       "    <tr>\n",
       "      <th>4</th>\n",
       "      <td>Split</td>\n",
       "    </tr>\n",
       "    <tr>\n",
       "      <th>5</th>\n",
       "      <td>Prepaid</td>\n",
       "    </tr>\n",
       "    <tr>\n",
       "      <th>6</th>\n",
       "      <td>Dispute</td>\n",
       "    </tr>\n",
       "    <tr>\n",
       "      <th>7</th>\n",
       "      <td>Cash</td>\n",
       "    </tr>\n",
       "    <tr>\n",
       "      <th>8</th>\n",
       "      <td>Pcard</td>\n",
       "    </tr>\n",
       "    <tr>\n",
       "      <th>9</th>\n",
       "      <td>Credit Card</td>\n",
       "    </tr>\n",
       "  </tbody>\n",
       "</table>\n",
       "</div>"
      ],
      "text/plain": [
       "  payment_type\n",
       "0       Mobile\n",
       "1     Way2ride\n",
       "2    No Charge\n",
       "3       Prcard\n",
       "4        Split\n",
       "5      Prepaid\n",
       "6      Dispute\n",
       "7         Cash\n",
       "8        Pcard\n",
       "9  Credit Card"
      ]
     },
     "execution_count": 5,
     "metadata": {},
     "output_type": "execute_result"
    }
   ],
   "source": [
    "## First to see how many payment methods there are total\n",
    "preliminary_query =\"\"\"\n",
    "SELECT DISTINCT payment_type\n",
    "FROM `bigquery-public-data.chicago_taxi_trips.taxi_trips`\n",
    "\"\"\" \n",
    "\n",
    "safe_config = bigquery.QueryJobConfig(maximum_bytes_billed=10**10)\n",
    "preliminary_query_job =client.query(preliminary_query,job_config=safe_config)\n",
    "preliminary_query_result = preliminary_query_job.to_dataframe()\n",
    "preliminary_query_result.head(10)\n"
   ]
  },
  {
   "cell_type": "code",
   "execution_count": 6,
   "metadata": {},
   "outputs": [
    {
     "data": {
      "text/html": [
       "<div>\n",
       "<style scoped>\n",
       "    .dataframe tbody tr th:only-of-type {\n",
       "        vertical-align: middle;\n",
       "    }\n",
       "\n",
       "    .dataframe tbody tr th {\n",
       "        vertical-align: top;\n",
       "    }\n",
       "\n",
       "    .dataframe thead th {\n",
       "        text-align: right;\n",
       "    }\n",
       "</style>\n",
       "<table border=\"1\" class=\"dataframe\">\n",
       "  <thead>\n",
       "    <tr style=\"text-align: right;\">\n",
       "      <th></th>\n",
       "      <th>payment_type</th>\n",
       "      <th>transactions</th>\n",
       "    </tr>\n",
       "  </thead>\n",
       "  <tbody>\n",
       "    <tr>\n",
       "      <th>0</th>\n",
       "      <td>Cash</td>\n",
       "      <td>111348005</td>\n",
       "    </tr>\n",
       "    <tr>\n",
       "      <th>1</th>\n",
       "      <td>Credit Card</td>\n",
       "      <td>77617402</td>\n",
       "    </tr>\n",
       "    <tr>\n",
       "      <th>2</th>\n",
       "      <td>No Charge</td>\n",
       "      <td>810332</td>\n",
       "    </tr>\n",
       "    <tr>\n",
       "      <th>3</th>\n",
       "      <td>Unknown</td>\n",
       "      <td>425232</td>\n",
       "    </tr>\n",
       "    <tr>\n",
       "      <th>4</th>\n",
       "      <td>Mobile</td>\n",
       "      <td>360386</td>\n",
       "    </tr>\n",
       "    <tr>\n",
       "      <th>5</th>\n",
       "      <td>Prcard</td>\n",
       "      <td>274576</td>\n",
       "    </tr>\n",
       "    <tr>\n",
       "      <th>6</th>\n",
       "      <td>Dispute</td>\n",
       "      <td>77855</td>\n",
       "    </tr>\n",
       "    <tr>\n",
       "      <th>7</th>\n",
       "      <td>Pcard</td>\n",
       "      <td>36874</td>\n",
       "    </tr>\n",
       "    <tr>\n",
       "      <th>8</th>\n",
       "      <td>Split</td>\n",
       "      <td>3442</td>\n",
       "    </tr>\n",
       "    <tr>\n",
       "      <th>9</th>\n",
       "      <td>Prepaid</td>\n",
       "      <td>1627</td>\n",
       "    </tr>\n",
       "  </tbody>\n",
       "</table>\n",
       "</div>"
      ],
      "text/plain": [
       "  payment_type  transactions\n",
       "0         Cash     111348005\n",
       "1  Credit Card      77617402\n",
       "2    No Charge        810332\n",
       "3      Unknown        425232\n",
       "4       Mobile        360386\n",
       "5       Prcard        274576\n",
       "6      Dispute         77855\n",
       "7        Pcard         36874\n",
       "8        Split          3442\n",
       "9      Prepaid          1627"
      ]
     },
     "execution_count": 6,
     "metadata": {},
     "output_type": "execute_result"
    }
   ],
   "source": [
    "query =\"\"\"\n",
    "SELECT payment_type, COUNT(1) AS transactions\n",
    "FROM `bigquery-public-data.chicago_taxi_trips.taxi_trips`\n",
    "GROUP BY payment_type\n",
    "ORDER BY transactions DESC\n",
    "\"\"\" \n",
    "\n",
    "safe_config = bigquery.QueryJobConfig(maximum_bytes_billed=10**10)\n",
    "query_job =client.query(query,job_config=safe_config)\n",
    "query_result = query_job.to_dataframe()\n",
    "query_result.head(10)"
   ]
  },
  {
   "cell_type": "code",
   "execution_count": 7,
   "metadata": {},
   "outputs": [
    {
     "data": {
      "text/html": [
       "<div>\n",
       "<style scoped>\n",
       "    .dataframe tbody tr th:only-of-type {\n",
       "        vertical-align: middle;\n",
       "    }\n",
       "\n",
       "    .dataframe tbody tr th {\n",
       "        vertical-align: top;\n",
       "    }\n",
       "\n",
       "    .dataframe thead th {\n",
       "        text-align: right;\n",
       "    }\n",
       "</style>\n",
       "<table border=\"1\" class=\"dataframe\">\n",
       "  <thead>\n",
       "    <tr style=\"text-align: right;\">\n",
       "      <th></th>\n",
       "      <th>payment_type</th>\n",
       "      <th>transactions</th>\n",
       "    </tr>\n",
       "  </thead>\n",
       "  <tbody>\n",
       "    <tr>\n",
       "      <th>0</th>\n",
       "      <td>Cash</td>\n",
       "      <td>111348005</td>\n",
       "    </tr>\n",
       "    <tr>\n",
       "      <th>1</th>\n",
       "      <td>Credit Card</td>\n",
       "      <td>77617402</td>\n",
       "    </tr>\n",
       "  </tbody>\n",
       "</table>\n",
       "</div>"
      ],
      "text/plain": [
       "  payment_type  transactions\n",
       "0         Cash     111348005\n",
       "1  Credit Card      77617402"
      ]
     },
     "execution_count": 7,
     "metadata": {},
     "output_type": "execute_result"
    }
   ],
   "source": [
    "query =\"\"\"\n",
    "SELECT payment_type, COUNT(1) AS transactions\n",
    "FROM `bigquery-public-data.chicago_taxi_trips.taxi_trips`\n",
    "WHERE payment_type = 'Credit Card' OR payment_type = 'Cash'\n",
    "GROUP BY payment_type\n",
    "ORDER BY transactions DESC\n",
    "\"\"\" \n",
    "\n",
    "safe_config = bigquery.QueryJobConfig(maximum_bytes_billed=10**10)\n",
    "query_job =client.query(query,job_config=safe_config)\n",
    "query_result = query_job.to_dataframe()\n",
    "query_result.head(10)"
   ]
  },
  {
   "cell_type": "code",
   "execution_count": 8,
   "metadata": {},
   "outputs": [
    {
     "data": {
      "text/plain": [
       "<matplotlib.axes._subplots.AxesSubplot at 0x7f74a726a780>"
      ]
     },
     "execution_count": 8,
     "metadata": {},
     "output_type": "execute_result"
    },
    {
     "data": {
      "image/png": "[encoded data removed]",
      "text/plain": [
       "<Figure size 864x144 with 1 Axes>"
      ]
     },
     "metadata": {
      "needs_background": "light"
     },
     "output_type": "display_data"
    }
   ],
   "source": [
    "import matplotlib.pyplot as plt\n",
    "import seaborn as sns\n",
    "plt.subplots(figsize=(12, 2))\n",
    "sns.barplot(x=query_result['transactions'],y=query_result['payment_type'], palette='Blues_r')\n",
    "#generating the graph pictured above"
   ]
  },
  {
   "cell_type": "markdown",
   "metadata": {},
   "source": [
    "# Initial findings:\n",
    "I was not expecting there to be so many different payment methods used. Though it would appear that cash and credit card are used in about 99.9% of all transactions. Next I want to graph card/cash usage over time. The horizontal bar graph above answers the question sufficiently, however I've answered the last 3 tasks with horizontal bar charts so I want to try something else."
   ]
  },
  {
   "cell_type": "code",
   "execution_count": 9,
   "metadata": {},
   "outputs": [
    {
     "data": {
      "text/html": [
       "<div>\n",
       "<style scoped>\n",
       "    .dataframe tbody tr th:only-of-type {\n",
       "        vertical-align: middle;\n",
       "    }\n",
       "\n",
       "    .dataframe tbody tr th {\n",
       "        vertical-align: top;\n",
       "    }\n",
       "\n",
       "    .dataframe thead th {\n",
       "        text-align: right;\n",
       "    }\n",
       "</style>\n",
       "<table border=\"1\" class=\"dataframe\">\n",
       "  <thead>\n",
       "    <tr style=\"text-align: right;\">\n",
       "      <th></th>\n",
       "      <th>year</th>\n",
       "      <th>payment_type</th>\n",
       "      <th>transactions</th>\n",
       "    </tr>\n",
       "  </thead>\n",
       "  <tbody>\n",
       "    <tr>\n",
       "      <th>0</th>\n",
       "      <td>2013</td>\n",
       "      <td>Cash</td>\n",
       "      <td>18708952</td>\n",
       "    </tr>\n",
       "    <tr>\n",
       "      <th>1</th>\n",
       "      <td>2013</td>\n",
       "      <td>Credit Card</td>\n",
       "      <td>8099398</td>\n",
       "    </tr>\n",
       "    <tr>\n",
       "      <th>2</th>\n",
       "      <td>2014</td>\n",
       "      <td>Cash</td>\n",
       "      <td>23869993</td>\n",
       "    </tr>\n",
       "    <tr>\n",
       "      <th>3</th>\n",
       "      <td>2014</td>\n",
       "      <td>Credit Card</td>\n",
       "      <td>13301279</td>\n",
       "    </tr>\n",
       "    <tr>\n",
       "      <th>4</th>\n",
       "      <td>2015</td>\n",
       "      <td>Cash</td>\n",
       "      <td>18352793</td>\n",
       "    </tr>\n",
       "    <tr>\n",
       "      <th>5</th>\n",
       "      <td>2015</td>\n",
       "      <td>Credit Card</td>\n",
       "      <td>13829228</td>\n",
       "    </tr>\n",
       "    <tr>\n",
       "      <th>6</th>\n",
       "      <td>2016</td>\n",
       "      <td>Cash</td>\n",
       "      <td>17818713</td>\n",
       "    </tr>\n",
       "    <tr>\n",
       "      <th>7</th>\n",
       "      <td>2016</td>\n",
       "      <td>Credit Card</td>\n",
       "      <td>13775750</td>\n",
       "    </tr>\n",
       "    <tr>\n",
       "      <th>8</th>\n",
       "      <td>2017</td>\n",
       "      <td>Cash</td>\n",
       "      <td>13746691</td>\n",
       "    </tr>\n",
       "    <tr>\n",
       "      <th>9</th>\n",
       "      <td>2017</td>\n",
       "      <td>Credit Card</td>\n",
       "      <td>11072099</td>\n",
       "    </tr>\n",
       "  </tbody>\n",
       "</table>\n",
       "</div>"
      ],
      "text/plain": [
       "   year payment_type  transactions\n",
       "0  2013         Cash      18708952\n",
       "1  2013  Credit Card       8099398\n",
       "2  2014         Cash      23869993\n",
       "3  2014  Credit Card      13301279\n",
       "4  2015         Cash      18352793\n",
       "5  2015  Credit Card      13829228\n",
       "6  2016         Cash      17818713\n",
       "7  2016  Credit Card      13775750\n",
       "8  2017         Cash      13746691\n",
       "9  2017  Credit Card      11072099"
      ]
     },
     "execution_count": 9,
     "metadata": {},
     "output_type": "execute_result"
    }
   ],
   "source": [
    "query =\"\"\"\n",
    "SELECT EXTRACT(YEAR FROM trip_start_timestamp) AS year, payment_type, COUNT(1) AS transactions\n",
    "FROM `bigquery-public-data.chicago_taxi_trips.taxi_trips`\n",
    "WHERE payment_type = 'Credit Card' OR payment_type = 'Cash'\n",
    "GROUP BY year, payment_type\n",
    "ORDER BY year, transactions DESC\n",
    "\"\"\" \n",
    "\n",
    "safe_config = bigquery.QueryJobConfig(maximum_bytes_billed=10**10)\n",
    "query_job =client.query(query,job_config=safe_config)\n",
    "query_result = query_job.to_dataframe()\n",
    "query_result.head(10)"
   ]
  },
  {
   "cell_type": "markdown",
   "metadata": {},
   "source": [
    "Looking above, what I really want is a table where the years are the index and cash and credit card are the two columns.\n",
    "\n",
    "I like to believe that one day I will return to this notebook and add the correct query to magically generate that table. But for now in stead I will create that table with python instead."
   ]
  },
  {
   "cell_type": "code",
   "execution_count": 10,
   "metadata": {},
   "outputs": [
    {
     "data": {
      "text/html": [
       "<div>\n",
       "<style scoped>\n",
       "    .dataframe tbody tr th:only-of-type {\n",
       "        vertical-align: middle;\n",
       "    }\n",
       "\n",
       "    .dataframe tbody tr th {\n",
       "        vertical-align: top;\n",
       "    }\n",
       "\n",
       "    .dataframe thead th {\n",
       "        text-align: right;\n",
       "    }\n",
       "</style>\n",
       "<table border=\"1\" class=\"dataframe\">\n",
       "  <thead>\n",
       "    <tr style=\"text-align: right;\">\n",
       "      <th></th>\n",
       "      <th>Cash</th>\n",
       "      <th>Credit_Card</th>\n",
       "    </tr>\n",
       "  </thead>\n",
       "  <tbody>\n",
       "    <tr>\n",
       "      <th>2013</th>\n",
       "      <td>18708952</td>\n",
       "      <td>8099398</td>\n",
       "    </tr>\n",
       "    <tr>\n",
       "      <th>2014</th>\n",
       "      <td>23869993</td>\n",
       "      <td>13301279</td>\n",
       "    </tr>\n",
       "    <tr>\n",
       "      <th>2015</th>\n",
       "      <td>18352793</td>\n",
       "      <td>13829228</td>\n",
       "    </tr>\n",
       "    <tr>\n",
       "      <th>2016</th>\n",
       "      <td>17818713</td>\n",
       "      <td>13775750</td>\n",
       "    </tr>\n",
       "    <tr>\n",
       "      <th>2017</th>\n",
       "      <td>13746691</td>\n",
       "      <td>11072099</td>\n",
       "    </tr>\n",
       "    <tr>\n",
       "      <th>2018</th>\n",
       "      <td>10764037</td>\n",
       "      <td>9684665</td>\n",
       "    </tr>\n",
       "    <tr>\n",
       "      <th>2019</th>\n",
       "      <td>8086770</td>\n",
       "      <td>7854953</td>\n",
       "    </tr>\n",
       "    <tr>\n",
       "      <th>2020</th>\n",
       "      <td>56</td>\n",
       "      <td>30</td>\n",
       "    </tr>\n",
       "  </tbody>\n",
       "</table>\n",
       "</div>"
      ],
      "text/plain": [
       "          Cash  Credit_Card\n",
       "2013  18708952      8099398\n",
       "2014  23869993     13301279\n",
       "2015  18352793     13829228\n",
       "2016  17818713     13775750\n",
       "2017  13746691     11072099\n",
       "2018  10764037      9684665\n",
       "2019   8086770      7854953\n",
       "2020        56           30"
      ]
     },
     "execution_count": 10,
     "metadata": {},
     "output_type": "execute_result"
    }
   ],
   "source": [
    "years = [2013,2014,2015,2016,2017,2018,2019,2020]\n",
    "ind = 0\n",
    "cash = []\n",
    "cc = []\n",
    "for num in query_result.transactions:\n",
    "    if ind % 2 == 0:\n",
    "        cash = cash + [num]\n",
    "        ind += 1\n",
    "    else:\n",
    "        cc = cc + [num]\n",
    "        ind += 1\n",
    "cash = pd.Series(cash, index=years, name='Cash')\n",
    "cash = pd.DataFrame(cash, index=cash.index)\n",
    "cc = pd.Series(cc, index=years, name='Credit_Card')\n",
    "cc = pd.DataFrame(cc, index=cash.index)\n",
    "\n",
    "#The irony of using python for a join when I initially chose this project to practice SQL is not lost on me\n",
    "pay_df = pd.merge(cash, cc, left_index=True, right_index=True)\n",
    "pay_df"
   ]
  },
  {
   "cell_type": "code",
   "execution_count": 11,
   "metadata": {},
   "outputs": [
    {
     "data": {
      "text/plain": [
       "<matplotlib.axes._subplots.AxesSubplot at 0x7f74a4c9c780>"
      ]
     },
     "execution_count": 11,
     "metadata": {},
     "output_type": "execute_result"
    },
    {
     "data": {
      "image/png": "[encoded data removed]",
      "text/plain": [
       "<Figure size 720x576 with 1 Axes>"
      ]
     },
     "metadata": {
      "needs_background": "light"
     },
     "output_type": "display_data"
    }
   ],
   "source": [
    "plt.subplots(figsize=(10, 8))\n",
    "sns.lineplot(data=pay_df, palette=\"Blues_r\", linewidth=3.5)\n"
   ]
  },
  {
   "cell_type": "markdown",
   "metadata": {},
   "source": [
    "# Final Thoughts:\n",
    "For the graph above the report was run in January 2020 so there hasn't been much activity recorded yet. There is a downward trend, but not as extreme as this graph would imply.\n",
    "\n",
    "I find it interesting that cash has had such a large role in the business model of taxi services. While I didn't look at what the totals were, it might be interesting to see if there is a signifigant delta in the average fare for the two catagories. \n",
    "\n",
    "It also raises an interesting idea: is the payment method the cause of success of ridesharing services of Uber/Lyft based on the level of purchase friction. Purchase friction is the psycological burden of closing a transaction, for payment methods cash has the highest friction whereas credit cards/mobile pay is the lowest mobile pay has a fast and simple process time and you never handle the money that you give over. For an example of this in action just lookup the average cart comparison between payment methods, for vending machines the difference is about a 33% difference is average amount spent when comparing cash to cards. "
   ]
  },
  {
   "cell_type": "markdown",
   "metadata": {},
   "source": [
    "I'm always up to constructive feedback, feel free to comment this article or message me directly. If you would like to collaborate on a future weekly task let me know.\n",
    "\n",
    "For past examples of my kaggle tasks view my profile or you can also view them on github at: https://github.com/Neil-Kloper/Weekly-Kaggle-Task"
   ]
  }
 ],
 "metadata": {
  "kernelspec": {
   "display_name": "Python 3",
   "language": "python",
   "name": "python3"
  },
  "language_info": {
   "codemirror_mode": {
    "name": "ipython",
    "version": 3
   },
   "file_extension": ".py",
   "mimetype": "text/x-python",
   "name": "python",
   "nbconvert_exporter": "python",
   "pygments_lexer": "ipython3",
   "version": "3.6.6"
  }
 },
 "nbformat": 4,
 "nbformat_minor": 1
}
